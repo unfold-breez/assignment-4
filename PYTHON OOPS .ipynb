{
  "metadata": {
    "kernelspec": {
      "name": "python",
      "display_name": "Python (Pyodide)",
      "language": "python"
    },
    "language_info": {
      "codemirror_mode": {
        "name": "python",
        "version": 3
      },
      "file_extension": ".py",
      "mimetype": "text/x-python",
      "name": "python",
      "nbconvert_exporter": "python",
      "pygments_lexer": "ipython3",
      "version": "3.8"
    }
  },
  "nbformat_minor": 5,
  "nbformat": 4,
  "cells": [
    {
      "id": "051ca891-b2b8-4b7d-9418-83d6f2f9338f",
      "cell_type": "markdown",
      "source": "Q1. What is Object-Oriented Programming (OOP) ?\n\nANS - Object-Oriented Programming (OOP) is a programming paradigm based on the concept of \"objects,\" which can contain data in the form of fields (often called attributes or properties) and code in the form of methods (functions). OOP focuses on organizing code into reusable and modular components, making it easier to design, maintain, and scale software systems.\n\nKey principles of OOP include:\n\n\t1. Encapsulation: Bundling data and methods that operate on the data into a single unit (class) and restricting direct access to some of the object's components.\n\t2. Inheritance: Allowing a class to inherit properties and methods from another class, promoting code reuse.\n\t3. Polymorphism: Enabling objects to be treated as instances of their parent class, allowing for dynamic method overriding and flexibility.\n\t4. Abstraction: Hiding the complex implementation details of a system and exposing only the essential features.\n\nLanguages like Python, Java, C++, and Ruby support OOP.",
      "metadata": {}
    },
    {
      "id": "974da77c-98e9-4ad3-9396-2eb33591673b",
      "cell_type": "markdown",
      "source": "Q2. What is a class in OOP ?\n\nANS - A class in Object-Oriented Programming (OOP) is a blueprint or template for creating objects. It defines the structure and behavior of the objects by specifying their attributes (data) and methods (functions). A class encapsulates data and the operations that can be performed on that data, promoting modularity and code reuse.\n\nFor example, in Python:\n\nclass Car:\n    def __init__(self, brand, model):\n        self.brand = brand\n        self.model = model\n\n    def display_info(self):\n        print(f\"Car: {self.brand} {self.model}\")\n\n# Creating an object (instance) of the class\nmy_car = Car(\"Toyota\", \"Corolla\")\nmy_car.display_info()  # Output: Car: Toyota Corolla\n\nIn this example, Car is the class, and my_car is an object (instance) created from the class. The class defines the attributes brand and model and the method display_info that operates on those attributes.A class in Object-Oriented Programming (OOP) is a blueprint or template for creating objects. It defines the structure and behavior of the objects by specifying their attributes (data) and methods (functions). A class encapsulates data and the operations that can be performed on that data, promoting modularity and code reuse.\n\nFor example, in Python:\n\nclass Car:\n    def __init__(self, brand, model):\n        self.brand = brand\n        self.model = model\n\n    def display_info(self):\n        print(f\"Car: {self.brand} {self.model}\")\n\n# Creating an object (instance) of the class\nmy_car = Car(\"Toyota\", \"Corolla\")\nmy_car.display_info()  # Output: Car: Toyota Corolla\n\nIn this example, Car is the class, and my_car is an object (instance) created from the class. The class defines the attributes brand and model and the method display_info that operates on those attributes.\n\n",
      "metadata": {}
    },
    {
      "id": "0af8e1a0-856b-4bf3-b611-cc9a60ad9712",
      "cell_type": "markdown",
      "source": "Q3. What is an object in OOP?\n\nANS - An object in Object-Oriented Programming (OOP) is an instance of a class. It is a concrete entity that encapsulates data (attributes) and behavior (methods) defined by its class. Objects are the building blocks of OOP and represent real-world entities or concepts in a program.\n\nFor example, if a class is a blueprint (like a \"Car\" class), an object is a specific instance of that blueprint (like a \"Toyota Corolla\"). Each object has its own unique data but shares the structure and behavior defined by the class.\n\nHere’s an example in Python:\n\nclass Car:\n    def __init__(self, brand, model):\n        self.brand = brand\n        self.model = model\n\n    def display_info(self):\n        print(f\"Car: {self.brand} {self.model}\")\n\n# Creating objects (instances) of the class\ncar1 = Car(\"Toyota\", \"Corolla\")\ncar2 = Car(\"Honda\", \"Civic\")\n\ncar1.display_info()  # Output: Car: Toyota Corolla\ncar2.display_info()  # Output: Car: Honda Civic\n\nIn this example:\n\n\t* car1 and car2 are objects of the Car class.\n\t* Each object has its own brand and model attributes but shares the display_info method defined in the class.",
      "metadata": {}
    },
    {
      "id": "4e01cec0-be12-4d4a-b490-bba5b50de098",
      "cell_type": "markdown",
      "source": "Q4. What is the difference between abstraction and encapsulation?\n\nANS -  Abstraction and encapsulation are two key concepts in Object-Oriented Programming (OOP), but they serve different purposes:\n\n\t1. Abstraction:\n\n\n\t\t* Abstraction is the process of hiding the implementation details of a system and exposing only the essential features or functionalities.\n\t\t* It focuses on what an object does rather than how it does it.\n\t\t* It is achieved using abstract classes and interfaces.\n\t\t* Example: A car's interface (steering wheel, pedals, etc.) abstracts the complex internal mechanisms like the engine and transmission.\n\t2. Encapsulation:\n\n\n\t\t* Encapsulation is the process of bundling data (attributes) and methods (functions) that operate on the data into a single unit (class).\n\t\t* It restricts direct access to some of the object's components, ensuring controlled access through methods (getters and setters).\n\t\t* It is achieved using access modifiers like private, protected, and public.\n\t\t* Example: In a class, the speed attribute of a car might be private, and you can only modify it through a method like set_speed().\n\nKey Differences:\n\n\t* Purpose: Abstraction is about hiding complexity, while encapsulation is about restricting access and protecting data.\n\t* Focus: Abstraction focuses on the external behavior of objects, while encapsulation focuses on the internal state and implementation.\n\nBoth abstraction and encapsulation work together to create robust, secure, and maintainable code.",
      "metadata": {}
    },
    {
      "id": "c581ae64-b49d-4e48-a97e-34005e5f5125",
      "cell_type": "markdown",
      "source": "Q5. What are dunder methods in Python?\n\nANS - Dunder methods in Python, short for \"double underscore methods,\" are special methods that have double underscores at the beginning and end of their names (e.g., __init__, __str__, __add__). They are also known as magic methods or special methods. These methods are predefined by Python and allow developers to define the behavior of objects for built-in operations and functions.\n\nKey Features of Dunder Methods:\n\t1. Customization of Object Behavior:\n\n\n\t\t* Dunder methods let you customize how objects behave for specific operations, such as addition, subtraction, or string representation.\n\t2. Common Examples:\n\n\n\t\t* __init__: Initializes a new object (constructor).\n\t\t* __str__: Defines the string representation of an object (used by print()).\n\t\t* __repr__: Provides an official string representation of an object (used by repr()).\n\t\t* __add__: Defines the behavior of the + operator for objects.\n\t\t* __len__: Defines the behavior of the len() function for objects.\n\t3. Usage:\n\n\n\t\t* Dunder methods are typically used to make classes more Pythonic by enabling objects to behave like built-in types.\n\nExample:\nclass Point:\n    def __init__(self, x, y):\n        self.x = x\n        self.y = y\n\n    def __str__(self):\n        return f\"Point({self.x}, {self.y})\"\n\n    def __add__(self, other):\n        return Point(self.x + other.x, self.y + other.y)\n\n# Creating objects\np1 = Point(2, 3)\np2 = Point(4, 5)\n\n# Using dunder methods\nprint(p1)           # Output: Point(2, 3) (calls __str__)\np3 = p1 + p2        # Calls __add__\nprint(p3)           # Output: Point(6, 8)\n\nDunder methods enhance the readability and functionality of classes, making them more intuitive and easier to use.",
      "metadata": {}
    },
    {
      "id": "b7e7b4cc-ebf5-46a1-9b69-555f68f63d66",
      "cell_type": "markdown",
      "source": "Q6. Explain the concept of inheritance in OOP\n\nANS - Inheritance is a fundamental concept in Object-Oriented Programming (OOP) that allows a class (called the child or derived class) to inherit attributes and methods from another class (called the parent or base class). It promotes code reuse, modularity, and a hierarchical class structure.\n\nKey Features of Inheritance:\n\t1. Code Reusability: The child class can reuse the code of the parent class, reducing redundancy.\n\t2. Extensibility: The child class can add new attributes and methods or override existing ones from the parent class.\n\t3. Hierarchical Structure: It helps in creating a hierarchy of classes, making the code more organized and easier to understand.\n\nTypes of Inheritance:\n\t1. Single Inheritance: A child class inherits from one parent class.\n\t2. Multiple Inheritance: A child class inherits from multiple parent classes.\n\t3. Multilevel Inheritance: A class inherits from a child class, forming a chain of inheritance.\n\t4. Hierarchical Inheritance: Multiple child classes inherit from a single parent class.\n\t5. Hybrid Inheritance: A combination of two or more types of inheritance.\n\nExample in Python:\n# Parent class\nclass Animal:\n    def __init__(self, name):\n        self.name = name\n\n    def speak(self):\n        return f\"{self.name} makes a sound.\"\n\n# Child class\nclass Dog(Animal):\n    def speak(self):\n        return f\"{self.name} barks.\"\n\n# Creating objects\nanimal = Animal(\"Animal\")\ndog = Dog(\"Dog\")\n\nprint(animal.speak())  # Output: Animal makes a sound.\nprint(dog.speak())     # Output: Dog barks.\n\nIn this example, the Dog class inherits from the Animal class and overrides the speak method to provide specific behavior.\n\nInheritance helps in building scalable and maintainable applications by enabling the reuse and extension of existing code.",
      "metadata": {}
    },
    {
      "id": "4bde9087-b91e-4141-8cb8-4b3f2b7f1307",
      "cell_type": "markdown",
      "source": "Q7. What is polymorphism in OOP?\n\nANS-  Polymorphism in Object-Oriented Programming (OOP) refers to the ability of different objects to respond to the same method or function call in a way that is specific to their type. It allows a single interface to represent different types of objects, enabling flexibility and reusability in code.\n\nKey Features of Polymorphism:\n\n\t1. Method Overriding: A child class can provide its own implementation of a method that is already defined in its parent class. The method call is resolved at runtime based on the object's type.\n\t2. Method Overloading (not directly supported in Python): Multiple methods with the same name but different parameters can coexist in some programming languages.\n\t3. Operator Overloading: Operators like + or * can be redefined to work with user-defined objects.\n\nExample in Python:\n\nclass Animal:\n    def speak(self):\n        return \"Animal makes a sound.\"\n\nclass Dog(Animal):\n    def speak(self):\n        return \"Dog barks.\"\n\nclass Cat(Animal):\n    def speak(self):\n        return \"Cat meows.\"\n\n# Polymorphism in action\nanimals = [Dog(), Cat(), Animal()]\n\nfor animal in animals:\n    print(animal.speak())\n\nOutput:\n\nDog barks.\nCat meows.\nAnimal makes a sound.\n\nIn this example, the speak method behaves differently depending on the type of object, demonstrating polymorphism. This concept enhances code flexibility and maintainability.",
      "metadata": {}
    },
    {
      "id": "8a03a2eb-e983-4f3d-a036-c142aadff668",
      "cell_type": "markdown",
      "source": "Q8. How is encapsulation achieved in Python?\n\nANS-  Encapsulation in Python is achieved by bundling the data (attributes) and methods (functions) that operate on the data into a single unit, typically a class. It also involves restricting direct access to some of the object's components to enforce controlled interaction and maintain data integrity.\n\nKey aspects of encapsulation in Python:\n\n\t1. Access Modifiers:\n\n\n\t\t* Public Members: Accessible from anywhere.\n\t\t* Protected Members: Indicated by a single underscore (_). These are meant to be accessed only within the class and its subclasses.\n\t\t* Private Members: Indicated by a double underscore (__). These are not directly accessible outside the class and are name-mangled to prevent accidental access.\n\t2. Getter and Setter Methods:\n\n\n\t\t* Used to provide controlled access to private attributes.\n\nExample:\n\nclass Person:\n    def __init__(self, name, age):\n        self.name = name  # Public attribute\n        self._age = age   # Protected attribute\n        self.__salary = 50000  # Private attribute\n\n    # Getter for private attribute\n    def get_salary(self):\n        return self.__salary\n\n    # Setter for private attribute\n    def set_salary(self, salary):\n        if salary > 0:\n            self.__salary = salary\n        else:\n            print(\"Invalid salary!\")\n\n# Creating an object\nperson = Person(\"Alice\", 30)\n\n# Accessing public attribute\nprint(person.name)  # Output: Alice\n\n# Accessing protected attribute (not recommended)\nprint(person._age)  # Output: 30\n\n# Accessing private attribute (indirectly via getter)\nprint(person.get_salary())  # Output: 50000\n\n# Modifying private attribute (indirectly via setter)\nperson.set_salary(60000)\nprint(person.get_salary())  # Output: 60000\n\nEncapsulation ensures better control over data and helps in maintaining the integrity of the object.",
      "metadata": {}
    },
    {
      "id": "fc6ae929-c001-424e-bef6-851dfb35661b",
      "cell_type": "markdown",
      "source": "Q9. What is a constructor in Python?\n\nANS - A constructor in Python is a special method used to initialize the attributes of an object when it is created. It is defined using the __init__ method within a class. The constructor is automatically called when an object of the class is instantiated, allowing the programmer to set up the initial state of the object.\n\nKey Points:\n\t1. The constructor method is named __init__.\n\t2. It can accept arguments to initialize object attributes.\n\t3. It is automatically invoked when an object is created.\n\nExample:\nclass Person:\n    def __init__(self, name, age):\n        self.name = name  # Initialize the name attribute\n        self.age = age    # Initialize the age attribute\n\n# Creating an object of the Person class\nperson = Person(\"Alice\", 30)\n\n# Accessing the attributes\nprint(person.name)  # Output: Alice\nprint(person.age)   # Output: 30\n\nIn this example, the __init__ method initializes the name and age attributes of the Person object when it is created.",
      "metadata": {}
    },
    {
      "id": "1ef6bf24-e402-421f-8504-db314ce426d3",
      "cell_type": "markdown",
      "source": "Q10. What are class and static methods in Python?\n\nANS - Class and static methods in Python are special types of methods that are used to define behaviors related to the class itself rather than individual instances of the class.\n\n1. Class Methods:\n\t* A class method is bound to the class and not the object of the class.\n\t* It is defined using the @classmethod decorator.\n\t* The first parameter of a class method is cls, which refers to the class itself.\n\t* Class methods can access and modify class-level attributes but cannot access instance-level attributes directly.\n\nExample:\n\nclass MyClass:\n  class_variable = \"Class Level\"\n\n  @classmethod\n  def class_method(cls):\n      return f\"Accessing: {cls.class_variable}\"\n\nprint(MyClass.class_method())  # Output: Accessing: Class Level\n\n\n2. Static Methods:\n\t* A static method is bound to the class and does not depend on the instance or the class itself.\n\t* It is defined using the @staticmethod decorator.\n\t* Static methods do not take self or cls as their first parameter.\n\t* They are used for utility functions that do not need access to class or instance data.\n\nExample:\n\nclass MyClass:\n  @staticmethod\n  def static_method(x, y):\n      return x + y\n\nprint(MyClass.static_method(5, 10))  # Output: 15\n\n\nKey Differences:\n| Feature              | Class Method                     | Static Method                     |\n|----------------------|-----------------------------------|-----------------------------------|\n| Decorator            | `@classmethod`                    | `@staticmethod`                   |\n| First Parameter      | `cls` (class reference)           | No `self` or `cls`                |\n| Access to Class Data | Yes                               | No                                |\n| Access to Instance Data | No                             | No                                |\n\nClass and static methods are useful for organizing code and providing functionality that is logically related to the class but does not require access to instance-specific data.",
      "metadata": {}
    },
    {
      "id": "0a83e303-6b47-4529-ad4b-43418a6bdc3d",
      "cell_type": "markdown",
      "source": "Q11. What is method overloading in Python?\n\nANS - Method overloading in Python refers to the ability to define multiple methods in a class with the same name but different numbers or types of parameters. However, Python does not support method overloading in the traditional sense, as seen in languages like Java or C++. Instead, Python allows a single method to handle different numbers of arguments using default arguments or variable-length arguments.\n\nExample:\n\nclass Calculator:\n    def add(self, a, b=0, c=0):\n        return a + b + c\n\n# Creating an object of the Calculator class\ncalc = Calculator()\n\n# Calling the add method with different numbers of arguments\nprint(calc.add(5))         # Output: 5\nprint(calc.add(5, 10))     # Output: 15\nprint(calc.add(5, 10, 15)) # Output: 30\n\nIn this example, the add method can handle one, two, or three arguments due to the use of default values for b and c. This approach mimics method overloading in Python.",
      "metadata": {}
    },
    {
      "id": "5d8cceea-8626-4fe6-9b4b-ae7a036a3b98",
      "cell_type": "markdown",
      "source": "Q12. What is method overriding in OOP?\n\nANS - Method overriding in Object-Oriented Programming (OOP) is a feature that allows a subclass to provide a specific implementation of a method that is already defined in its parent class. The method in the subclass must have the same name, return type, and parameters as the method in the parent class. This allows the subclass to modify or extend the behavior of the parent class's method.\n\nKey Points:\n\n\t1. The method in the subclass overrides the method in the parent class.\n\t2. It is used to achieve runtime polymorphism.\n\t3. The super() function can be used to call the parent class's version of the overridden method.\n\nExample:\n\nclass Parent:\n    def show_message(self):\n        print(\"Message from Parent class\")\n\nclass Child(Parent):\n    def show_message(self):\n        print(\"Message from Child class\")\n\n# Creating objects\nparent = Parent()\nchild = Child()\n\n# Calling the methods\nparent.show_message()  # Output: Message from Parent class\nchild.show_message()   # Output: Message from Child class\n\nIn this example, the show_message method in the Child class overrides the show_message method in the Parent class, allowing the child class to provide its own implementation.",
      "metadata": {}
    },
    {
      "id": "54d25f7b-96ce-4edf-9497-55eb781353c5",
      "cell_type": "markdown",
      "source": "Q13. What is a property decorator in Python?\n\nANS - A property decorator in Python is a built-in decorator (@property) that is used to define a method in a class as a property. It allows you to define getter, setter, and deleter methods for an attribute, enabling controlled access to the attribute while maintaining the simplicity of attribute access syntax.\n\nUsing the @property decorator, you can define a method that can be accessed like an attribute, without explicitly calling it as a method. This is useful for encapsulation, as it allows you to add logic to get or set an attribute while keeping the interface simple.\n\nExample:\nclass Circle:\n    def __init__(self, radius):\n        self._radius = radius  # Private attribute\n\n    @property\n    def radius(self):\n        return self._radius\n\n    @radius.setter\n    def radius(self, value):\n        if value < 0:\n            raise ValueError(\"Radius cannot be negative\")\n        self._radius = value\n\n    @radius.deleter\n    def radius(self):\n        print(\"Deleting radius\")\n        del self._radius\n\n# Creating an object of Circle\ncircle = Circle(5)\n\n# Accessing the radius using the property\nprint(circle.radius)  # Output: 5\n\n# Setting the radius using the setter\ncircle.radius = 10\nprint(circle.radius)  # Output: 10\n\n# Deleting the radius using the deleter\ndel circle.radius\n\nIn this example:\n\n\t1. The radius method is defined as a property using the @property decorator.\n\t2. The @radius.setter defines the setter method for the radius property.\n\t3. The @radius.deleter defines the deleter method for the radius property.\n\nThis approach provides a clean and controlled way to manage attribute access in Python classes.",
      "metadata": {}
    },
    {
      "id": "49fb9347-99a6-4d73-a3a1-d17b1c46a3c4",
      "cell_type": "markdown",
      "source": "Q14. Why is polymorphism important in OOP?\n\nANS -Polymorphism is important in Object-Oriented Programming (OOP) because it enhances flexibility, reusability, and maintainability of code. It allows objects of different classes to be treated as objects of a common superclass, enabling a single interface to represent different underlying forms (data types). This is achieved through method overriding and method overloading.\n\nKey reasons why polymorphism is important:\n\n\t1. Code Reusability: Polymorphism allows the same interface or method to be used for different types of objects, reducing code duplication and improving reusability.\n\n\t2. Extensibility: It enables developers to add new functionality to a program without modifying existing code, making it easier to extend and maintain.\n\n\t3. Runtime Flexibility: Polymorphism supports dynamic method dispatch, allowing the program to decide at runtime which method to invoke, based on the object type.\n\n\t4. Simplified Code: It simplifies code by allowing the same method or operation to work on different types of objects, making the code easier to understand and manage.\n\n\nExample:\n\nclass Animal:\n    def make_sound(self):\n        pass\n\nclass Dog(Animal):\n    def make_sound(self):\n        return \"Bark\"\n\nclass Cat(Animal):\n    def make_sound(self):\n        return \"Meow\"\n\n# Polymorphism in action\nanimals = [Dog(), Cat()]\n\nfor animal in animals:\n    print(animal.make_sound())\n\nOutput:\n\nBark\nMeow\n\nIn this example, the make_sound method is implemented differently in the Dog and Cat classes, but they can be treated as instances of the Animal class, demonstrating polymorphism.",
      "metadata": {}
    },
    {
      "id": "ab77d197-8352-447b-9c7b-f59e9d1ff772",
      "cell_type": "markdown",
      "source": "Q15. What is an abstract class in Python?\n\nANS -An abstract class in Python is a class that cannot be instantiated directly and is designed to be a blueprint for other classes. It is defined using the ABC (Abstract Base Class) module from the abc library. Abstract classes can include one or more abstract methods, which are methods declared but not implemented in the abstract class. Subclasses of the abstract class are required to provide implementations for all its abstract methods.\n\nAbstract classes are useful for defining a common interface for a group of related classes while enforcing that certain methods are implemented in the subclasses.\n\nExample:\n\nfrom abc import ABC, abstractmethod\n\nclass Animal(ABC):\n    @abstractmethod\n    def make_sound(self):\n        pass\n\nclass Dog(Animal):\n    def make_sound(self):\n        return \"Bark\"\n\nclass Cat(Animal):\n    def make_sound(self):\n        return \"Meow\"\n\n# Uncommenting the following line will raise an error because Animal is abstract\n# animal = Animal()\n\ndog = Dog()\nprint(dog.make_sound())  # Output: Bark\n\ncat = Cat()\nprint(cat.make_sound())  # Output: Meow\n\nIn this example:\n\n\t1. The Animal class is an abstract class with an abstract method make_sound.\n\t2. The Dog and Cat classes inherit from Animal and provide their own implementations of the make_sound method.\n\t3. Attempting to instantiate the Animal class directly will raise an error.\n\nAbstract classes ensure that a consistent interface is followed by all subclasses.",
      "metadata": {}
    },
    {
      "id": "6396df79-ffa9-48f2-b0df-5bcea067c311",
      "cell_type": "markdown",
      "source": "Q16. What are the advantages of OOP?\n\nANS - Object-Oriented Programming (OOP) offers several advantages that make it a widely used programming paradigm:\n\n\t1. Modularity: OOP allows you to break down a program into smaller, reusable, and manageable pieces (classes and objects), making it easier to debug and maintain.\n\n\t2. Code Reusability: Through inheritance, OOP enables the reuse of existing code, reducing redundancy and improving efficiency.\n\n\t3. Encapsulation: OOP helps in bundling data (attributes) and methods (functions) together, restricting direct access to some of the object's components, which enhances security and prevents accidental interference.\n\n\t4. Polymorphism: It allows objects of different classes to be treated as objects of a common superclass, enabling flexibility and the use of a single interface for different data types.\n\n\t5. Abstraction: OOP simplifies complex systems by modeling classes based on essential features while hiding unnecessary details, making the system easier to understand and use.\n\n\t6. Scalability: OOP makes it easier to scale applications by allowing developers to add new features or modify existing ones without affecting the entire system.\n\n\t7. Improved Productivity: The modular structure of OOP promotes faster development and easier collaboration among developers.\n\n\t8. Real-World Modeling: OOP closely resembles real-world entities, making it intuitive and easier to design systems that reflect real-world scenarios.\n\n\nThese advantages make OOP a powerful tool for building robust, scalable, and maintainable softHere’s the answer to the question",
      "metadata": {}
    },
    {
      "id": "31048f85-e2ea-4ba7-a5cb-ce5426ce80ad",
      "cell_type": "markdown",
      "source": "Q17. What is the difference between a class variable and an instance variable?\n\nANS - A class variable is a variable that is shared among all instances of a class. It is defined within the class but outside any instance methods and is accessed using the class name or an instance. Changes made to a class variable affect all instances of the class.\n\nAn instance variable, on the other hand, is specific to a particular instance of a class. It is defined within methods (usually in the __init__ method) and is accessed using self. Changes made to an instance variable only affect that specific instance.\n\nExample:\nclass Example:\n    class_variable = \"Shared among all instances\"  # Class variable\n\n    def __init__(self, instance_value):\n        self.instance_variable = instance_value  # Instance variable\n\n# Create two instances\nobj1 = Example(\"Instance 1\")\nobj2 = Example(\"Instance 2\")\n\n# Access variables\nprint(obj1.class_variable)  # Output: Shared among all instances\nprint(obj2.class_variable)  # Output: Shared among all instances\n\nprint(obj1.instance_variable)  # Output: Instance 1\nprint(obj2.instance_variable)  # Output: Instance 2\n\n# Modify class variable\nExample.class_variable = \"Modified class variable\"\nprint(obj1.class_variable)  # Output: Modified class variable\nprint(obj2.class_variable)  # Output: Modified class variable\n\n# Modify instance variable\nobj1.instance_variable = \"Modified Instance 1\"\nprint(obj1.instance_variable)  # Output: Modified Instance 1\nprint(obj2.instance_variable)  # Output: Instance 2\n\nIn summary:\n\n\t1. Class variables are shared across all instances of the class.\n\t2. Instance variables are unique to each instance of the class.",
      "metadata": {}
    },
    {
      "id": "2dc7bc71-e48d-4869-abf7-375ce2d9b1ba",
      "cell_type": "markdown",
      "source": "Q18. What is multiple inheritance in Python?\n\nANS- Multiple inheritance in Python is a feature that allows a class to inherit attributes and methods from more than one parent class. This enables a child class to combine and utilize functionalities from multiple parent classes.\n\nSyntax:\nclass Parent1:\n    # Parent1 methods and attributes\n\nclass Parent2:\n    # Parent2 methods and attributes\n\nclass Child(Parent1, Parent2):\n    # Child class inherits from Parent1 and Parent2\n\nExample:\nclass Parent1:\n    def method1(self):\n        print(\"Method from Parent1\")\n\nclass Parent2:\n    def method2(self):\n        print(\"Method from Parent2\")\n\nclass Child(Parent1, Parent2):\n    def method3(self):\n        print(\"Method from Child\")\n\n# Create an instance of Child\nchild = Child()\n\n# Access methods from both parents and the child\nchild.method1()  # Output: Method from Parent1\nchild.method2()  # Output: Method from Parent2\nchild.method3()  # Output: Method from Child\n\nKey Points:\n\t1. Flexibility: Multiple inheritance allows a class to use features from multiple classes.\n\t2. Method Resolution Order (MRO): Python uses the C3 linearization algorithm to determine the order in which methods are inherited in case of conflicts.\n\t3. Potential Conflicts: If multiple parent classes have methods with the same name, the MRO determines which method is called.\n\nWhile powerful, multiple inheritance should be used carefully to avoid complexity and ambiguity in code.",
      "metadata": {}
    },
    {
      "id": "92075cc2-c8fc-4c28-afe1-9680ab24b1d0",
      "cell_type": "markdown",
      "source": "Q19. Explain the purpose of ‘’__str__’ and ‘__repr__’ ‘ methods in Python ?\n\nANS - In Python, both __str__ and __repr__ are special methods used to provide string representations of objects, but they serve different purposes:\n\n\t1. __str__ (String Representation):\n\n\n\t\t* Purpose: Provides a readable, user-friendly string representation of an object\n\t\t* Used when: print() function is called on the object or str() is used\n\t\t* Intended audience: End users of the application\n\t\t* Should be: Concise, readable, and informative\n\t2. __repr__ (Representation):\n\n\n\t\t* Purpose: Provides an unambiguous string representation of an object, ideally one that could be used to recreate the object\n\t\t* Used when: In the interactive console when evaluating expressions, or when repr() is called\n\t\t* Intended audience: Developers and debuggers\n\t\t* Should be: Complete and precise, often following the convention of \"ClassName(arg1=val1, arg2=val2)\"\n\nExample:\n\nclass Person:\n    def __init__(self, name, age):\n        self.name = name\n        self.age = age\n    \n    def __str__(self):\n        return f\"{self.name}, {self.age} years old\"\n    \n    def __repr__(self):\n        return f\"Person(name='{self.name}', age={self.age})\"\n\np = Person(\"John\", 30)\nprint(str(p))  # Output: John, 30 years old\nprint(repr(p)) # Output: Person(name='John', age=30)\n\nIf __str__ is not defined, Python will use __repr__ as a fallback.\nIf __repr__ is not defined, the default implementation returns a string like \"<main.Person object at 0x7f123456789>\".\n\nBest practice is to implement both methods for your custom classes.",
      "metadata": {}
    },
    {
      "id": "abe7b15b-e4f8-4b5d-b62e-246ae3e6965f",
      "cell_type": "markdown",
      "source": "Q20. What is the significance of the ‘super()’ function in Python?\n\nANS - The super() function in Python is a built-in function that allows you to call methods from a parent or superclass. Its significance includes:\n\n\t1. Enabling Method Inheritance: It provides a way to call methods defined in parent classes from within a child class.\n\n\t2. Supporting Multiple Inheritance: In cases of multiple inheritance, super() follows the Method Resolution Order (MRO) to determine which parent class's method to call.\n\n\t3. Avoiding Explicit Parent Class Names: Instead of hardcoding parent class names (which makes code less maintainable), super() dynamically determines the appropriate class.\n\n\t4. Facilitating Cooperative Multiple Inheritance: When multiple classes in an inheritance hierarchy implement the same method, super() allows each implementation to be called in the proper order.\n\n\nExample:\n\nclass Parent:\n    def show(self):\n        print(\"Parent class method\")\n\nclass Child(Parent):\n    def show(self):\n        super().show()  # Calls the Parent class's show method\n        print(\"Child class method\")\n\n# Output when Child().show() is called:\n# Parent class method\n# Child class method\n\n\t1. Method Resolution Order: In complex inheritance hierarchies, super() follows Python's C3 linearization algorithm to determine the correct order of method resolution.\n\n\t2. Constructor Chaining: It's commonly used in init methods to ensure parent class initialization is properly executed.\n\n\nThis makes code more maintainable, flexible, and follows the DRY (Don't Repeat Yourself) principle.",
      "metadata": {}
    },
    {
      "id": "c499b948-03de-4f24-b407-df6e3ca397ff",
      "cell_type": "markdown",
      "source": "Q21. What is the significance of the __del__ method in Python?\n\nANS - The __del__ method in Python is a special method, also known as the destructor, which is called when an object is about to be destroyed. Its significance includes:\n\n\t1. Resource Cleanup: It is used to release resources such as closing files, releasing network connections, or cleaning up memory that the object was using.\n\n\t2. Automatic Invocation: Python's garbage collector automatically calls the __del__ method when an object is no longer in use and is being deleted.\n\n\t3. Custom Cleanup Logic: You can define custom cleanup logic in the __del__ method to ensure proper resource management.\n\n\nExample:\nclass FileHandler:\n    def __init__(self, filename):\n        self.file = open(filename, 'w')\n        print(f\"File {filename} opened.\")\n\n    def __del__(self):\n        self.file.close()\n        print(\"File closed.\")\n\n# Creating and deleting an object\nhandler = FileHandler(\"example.txt\")\ndel handler  # This will trigger the __del__ method\n\nKey Points:\n\t* The __del__ method is not guaranteed to be called immediately when an object goes out of scope; it depends on Python's garbage collection.\n\t* Avoid relying heavily on __del__ for critical cleanup tasks. Instead, use context managers (with statements) for predictable resource management.\n\t* Circular references can prevent the __del__ method from being called.\n\nIn summary, the __del__ method is useful for cleanup tasks, but it should be used cautiously and complemented with other resource management techniques.",
      "metadata": {}
    },
    {
      "id": "3ac22059-8f51-431b-89b2-34aa370b0825",
      "cell_type": "markdown",
      "source": "Q22. What is the difference between @staticmethod and @classmethod in Python?\n\nANS - The difference between @staticmethod and @classmethod in Python:\n\n\t1. Parameter Differences:\n\n\n\t\t* @staticmethod doesn't receive any automatic first parameter\n\t\t* @classmethod automatically receives the class (cls) as its first parameter\n\t2. Access to Class:\n\n\n\t\t* @staticmethod cannot access or modify class state\n\t\t* @classmethod can access and modify class state through the cls parameter\n\t3. Inheritance Behavior:\n\n\n\t\t* @staticmethod is bound to the class where it's defined\n\t\t* @classmethod works with inheritance - it receives the actual class that called the method\n\t4. Usage Purposes:\n\n\n\t\t* @staticmethod is used when a method doesn't need to access class or instance data\n\t\t* @classmethod is used for factory methods or methods that need to operate on the class itself\n\nExample:\n\nclass MyClass:\n    class_var = \"I am a class variable\"\n    \n    @staticmethod\n    def static_method():\n        # No automatic first parameter\n        # Cannot access class_var directly\n        return \"Static method called\"\n    \n    @classmethod\n    def class_method(cls):\n        # Receives class as first parameter\n        # Can access class variables using cls\n        return f\"Class method called, class_var: {cls.class_var}\"\n        \n    @classmethod\n    def factory_method(cls, value):\n        # Common use case: alternative constructor\n        instance = cls()\n        instance.value = value\n        return instance\n\nWhen to use each:\n\n\t* Use @staticmethod when the method's logic is independent of the class or instance state\n\t* Use @classmethod when you need to access or modify class state or create factory methods",
      "metadata": {}
    },
    {
      "id": "d9f66535-f912-48fa-bf3e-cd3065dde027",
      "cell_type": "markdown",
      "source": "Q23. What is the difference between @staticmethod and @classmethod in Python?\n\nANS -The difference between @staticmethod and @classmethod in Python lies in their behavior and use cases:\n\n\t1. Parameter Differences:\n\n\n\t\t* @staticmethod: Does not take any implicit first argument (neither self nor cls).\n\t\t* @classmethod: Takes the class (cls) as its first implicit argument.\n\t2. Access to Class or Instance:\n\n\n\t\t* @staticmethod: Cannot access or modify the class or instance state. It behaves like a regular function but belongs to the class's namespace.\n\t\t* @classmethod: Can access and modify the class state using the cls parameter.\n\t3. Inheritance Behavior:\n\n\n\t\t* @staticmethod: Is bound to the class where it is defined and does not consider inheritance.\n\t\t* @classmethod: Works with inheritance and receives the actual class that calls the method.\n\t4. Use Cases:\n\n\n\t\t* @staticmethod: Used for utility functions that do not depend on class or instance data.\n\t\t* @classmethod: Used for factory methods or methods that need to operate on the class itself.\n\nExample:\n\nclass MyClass:\n    class_var = \"I am a class variable\"\n\n    @staticmethod\n    def static_method():\n        return \"Static method called\"\n\n    @classmethod\n    def class_method(cls):\n        return f\"Class method called, class_var: {cls.class_var}\"\n\n    @classmethod\n    def factory_method(cls, value):\n        instance = cls()\n        instance.value = value\n        return instance\n\n# Usage\nprint(MyClass.static_method())  # Output: Static method called\nprint(MyClass.class_method())   # Output: Class method called, class_var: I am a class variable\ninstance = MyClass.factory_method(\"New Value\")\nprint(instance.value)           # Output: New Value\n\nWhen to Use:\n\n\t* Use @staticmethod when the method logic is independent of the class or instance state.\n\t* Use @classmethod when you need to access or modify class-level data or create alternative constructors.The difference between @staticmethod and @classmethod in Python lies in their behavior and use cases:\n\n\t1. Parameter Differences:\n\n\n\t\t* @staticmethod: Does not take any implicit first argument (neither self nor cls).\n\t\t* @classmethod: Takes the class (cls) as its first implicit argument.\n\t2. Access to Class or Instance:\n\n\n\t\t* @staticmethod: Cannot access or modify the class or instance state. It behaves like a regular function but belongs to the class's namespace.\n\t\t* @classmethod: Can access and modify the class state using the cls parameter.\n\t3. Inheritance Behavior:\n\n\n\t\t* @staticmethod: Is bound to the class where it is defined and does not consider inheritance.\n\t\t* @classmethod: Works with inheritance and receives the actual class that calls the method.\n\t4. Use Cases:\n\n\n\t\t* @staticmethod: Used for utility functions that do not depend on class or instance data.\n\t\t* @classmethod: Used for factory methods or methods that need to operate on the class itself.\n\nExample:\n\nclass MyClass:\n    class_var = \"I am a class variable\"\n\n    @staticmethod\n    def static_method():\n        return \"Static method called\"\n\n    @classmethod\n    def class_method(cls):\n        return f\"Class method called, class_var: {cls.class_var}\"\n\n    @classmethod\n    def factory_method(cls, value):\n        instance = cls()\n        instance.value = value\n        return instance\n\n# Usage\nprint(MyClass.static_method())  # Output: Static method called\nprint(MyClass.class_method())   # Output: Class method called, class_var: I am a class variable\ninstance = MyClass.factory_method(\"New Value\")\nprint(instance.value)           # Output: New Value\n\nWhen to Use:\n\n\t* Use @staticmethod when the method logic is independent of the class or instance state.\n\t* Use @classmethod when you need to access or modify class-level data or create alternative constructors.",
      "metadata": {}
    },
    {
      "id": "5185979c-247d-498f-af30-b114c2ec4bce",
      "cell_type": "markdown",
      "source": "Q24. What is method chaining in Python OOP?\n\nANS -Method chaining in Python OOP is a programming technique that allows multiple method calls to be connected in a single statement. Each method in the chain returns the object itself (self) instead of None, enabling subsequent method calls on the same object. This creates a fluent interface that makes code more readable and concise.\n\nKey aspects of method chaining:\n\n\t1. Implementation: Methods must return self (the object instance) to enable chaining.\n\n\t2. Benefits:\n\n\n\t\t* Improves code readability by reducing repetition of the object name\n\t\t* Creates more concise and expressive code\n\t\t* Allows for a fluent, natural language-like API\n\t3. Example:\n\n\nclass TextProcessor:\n    def __init__(self, text=\"\"):\n        self.text = text\n    \n    def append(self, new_text):\n        self.text += new_text\n        return self  # Returning self enables chaining\n    \n    def replace(self, old, new):\n        self.text = self.text.replace(old, new)\n        return self  # Returning self enables chaining\n    \n    def upper(self):\n        self.text = self.text.upper()\n        return self  # Returning self enables chaining\n    \n    def get_result(self):\n        return self.text\n\n# Using method chaining\nresult = TextProcessor(\"hello\")\\\n    .append(\" world\")\\\n    .replace(\"world\", \"python\")\\\n    .upper()\\\n    .get_result()\n\nprint(result)  # Output: HELLO PYTHON\n\n\t1. Common use cases:\n\n\n\t\t* Builder patterns\n\t\t* Data processing pipelines\n\t\t* Configuration objects\n\t\t* Query builders in ORMs (like SQLAlchemy)\n\t2. Considerations:\n\n\n\t\t* Can make debugging more difficult\n\t\t* May reduce code clarity if overused\n\t\t* All methods in the chain (except the last) should return self",
      "metadata": {}
    },
    {
      "id": "48ab2cf2-8fad-4470-b293-f83c278b89e7",
      "cell_type": "markdown",
      "source": "Q25. What is the purpose of the __call__ method in Python?\n\nANS - The purpose of the __call__ method in Python is to make instances of a class callable, meaning they can be used like functions. When you implement the __call__ method in a class, instances of that class can be \"called\" using parentheses, just like you would call a function.\n\nKey aspects of the __call__ method:\n\n\t1. Makes objects behave like functions: It allows objects to be invoked with the function call syntax instance().\n\n\t2. Can accept arguments: The __call__ method can take any number of arguments, just like regular functions.\n\n\t3. Common use cases:\n\n\n\t\t* Function factories or function-like objects\n\t\t* Stateful functions that maintain data between calls\n\t\t* Callbacks with configurable behavior\n\t\t* Creating decorators\n\t\t* Implementing functors (function objects)\n\nExample:\n\nclass Counter:\n    def __init__(self):\n        self.count = 0\n        \n    def __call__(self, increment=1):\n        self.count += increment\n        return self.count\n\n# Usage\ncounter = Counter()\nprint(counter())  # Output: 1\nprint(counter())  # Output: 2\nprint(counter(5))  # Output: 7\n\nIn this example, the Counter instance counter can be called like a function, and it maintains its state (the count) between calls.",
      "metadata": {}
    },
    {
      "id": "6ff1c976-b8a7-4c7c-a0cb-d6400df3602c",
      "cell_type": "markdown",
      "source": "                                                            PRACTICAL QUESTIONS ",
      "metadata": {}
    },
    {
      "id": "56604bce-6cbf-482f-a57c-33e7fc2f216d",
      "cell_type": "markdown",
      "source": "Q1. Create a parent class Animal with a method speak() that prints a generic message. Create a child class Dog\nthat overrides the speak() method to print \"Bark!\".",
      "metadata": {}
    },
    {
      "id": "00ea66c2-ae46-4544-b4b5-9a5bb6ec87bc",
      "cell_type": "code",
      "source": " class Animal:\n    def speak(self):\n        print(\"This is a generic animal sound\")\n\nclass Dog(Animal):\n    def speak(self):\n        print(\"Bark!\")\n\n# Testing the classes\nanimal = Animal()\ndog = Dog()\n\nprint(\"Animal speaks:\")\nanimal.speak()  # Output: This is a generic animal sound\n\nprint(\"\\nDog speaks:\")\ndog.speak()  # Output: Bark!",
      "metadata": {
        "trusted": true
      },
      "outputs": [
        {
          "name": "stdout",
          "output_type": "stream",
          "text": "Animal speaks:\nThis is a generic animal sound\n\nDog speaks:\nBark!\n"
        }
      ],
      "execution_count": 1
    },
    {
      "id": "f66c11f6-d781-434e-9a4a-f437321f9aef",
      "cell_type": "markdown",
      "source": "Q2.  Write a program to create an abstract class Shape with a method area(). Derive classes Circle and Rectangle\nfrom it and implement the area() method in both.",
      "metadata": {}
    },
    {
      "id": "6d3f2bd9-2a3c-47e0-b53a-d76d526d3c2c",
      "cell_type": "code",
      "source": "from abc import ABC, abstractmethod\nimport math\n\nclass Shape(ABC):\n    @abstractmethod\n    def area(self):\n        pass\n\nclass Circle(Shape):\n    def __init__(self, radius):\n        self.radius = radius\n    \n    def area(self):\n        return math.pi * self.radius ** 2\n\nclass Rectangle(Shape):\n    def __init__(self, length, width):\n        self.length = length\n        self.width = width\n    \n    def area(self):\n        return self.length * self.width\n\n# Testing the classes\ncircle = Circle(5)\nrectangle = Rectangle(4, 6)\n\nprint(\"Circle area:\", circle.area())\nprint(\"Rectangle area:\", rectangle.area())",
      "metadata": {
        "trusted": true
      },
      "outputs": [
        {
          "name": "stdout",
          "output_type": "stream",
          "text": "Circle area: 78.53981633974483\nRectangle area: 24\n"
        }
      ],
      "execution_count": 2
    },
    {
      "id": "514be83c-d808-4277-aac8-e3200a1b536c",
      "cell_type": "markdown",
      "source": "Q3.  Implement a multi-level inheritance scenario where a class Vehicle has an attribute type. Derive a class Car\nand further derive a class ElectricCar that adds a battery attribute.",
      "metadata": {}
    },
    {
      "id": "acfb3a34-2a63-4e80-b801-5f2d29f7ebe2",
      "cell_type": "code",
      "source": "# Base class\nclass Vehicle:\n    def __init__(self, vehicle_type):\n        self.vehicle_type = vehicle_type\n\n# Derived class\nclass Car(Vehicle):\n    def __init__(self, vehicle_type, brand):\n        super().__init__(vehicle_type)\n        self.brand = brand\n\n# Further derived class\nclass ElectricCar(Car):\n    def __init__(self, vehicle_type, brand, battery_capacity):\n        super().__init__(vehicle_type, brand)\n        self.battery_capacity = battery_capacity\n\n# Testing the classes\nelectric_car = ElectricCar(\"Electric\", \"Tesla\", \"100 kWh\")\nprint(\"Vehicle Type:\", electric_car.vehicle_type)\nprint(\"Brand:\", electric_car.brand)\nprint(\"Battery Capacity:\", electric_car.battery_capacity)",
      "metadata": {
        "trusted": true
      },
      "outputs": [
        {
          "name": "stdout",
          "output_type": "stream",
          "text": "Vehicle Type: Electric\nBrand: Tesla\nBattery Capacity: 100 kWh\n"
        }
      ],
      "execution_count": 3
    },
    {
      "id": "18a43ed6-0273-4983-91f1-fa982b9806e2",
      "cell_type": "markdown",
      "source": "Q4.  Demonstrate polymorphism by creating a base class Bird with a method fly(). Create two derived classes\nSparrow and Penguin that override the fly() method. ",
      "metadata": {}
    },
    {
      "id": "32105506-c075-4a0a-a8fb-6c8b1ee7b636",
      "cell_type": "code",
      "source": "# Base class\nclass Bird:\n    def __init__(self, name):\n        self.name = name\n    \n    def fly(self):\n        print(f\"The bird {self.name} is flying in a generic way\")\n\n# Derived class 1\nclass Sparrow(Bird):\n    def fly(self):\n        print(f\"The sparrow {self.name} is flying quickly and nimbly through the air\")\n\n# Derived class 2\nclass Penguin(Bird):\n    def fly(self):\n        print(f\"The penguin {self.name} cannot fly, but can swim excellently\")\n\n# Testing polymorphism\ndef let_bird_fly(bird):\n    bird.fly()  # This will call the appropriate fly() method based on the object's type\n\n# Create instances of different birds\ngeneric_bird = Bird(\"Birdy\")\nsparrow = Sparrow(\"Jack\")\npenguin = Penguin(\"Rico\")\n\n# Demonstrate polymorphism\nprint(\"Demonstrating polymorphism:\")\nlet_bird_fly(generic_bird)\nlet_bird_fly(sparrow)\nlet_bird_fly(penguin)",
      "metadata": {
        "trusted": true
      },
      "outputs": [
        {
          "name": "stdout",
          "output_type": "stream",
          "text": "Demonstrating polymorphism:\nThe bird Birdy is flying in a generic way\nThe sparrow Jack is flying quickly and nimbly through the air\nThe penguin Rico cannot fly, but can swim excellently\n"
        }
      ],
      "execution_count": 4
    },
    {
      "id": "4ec2ef2f-1a2a-43bc-b9c2-4b6551b9c23a",
      "cell_type": "markdown",
      "source": "Q5. Write a program to demonstrate encapsulation by creating a class BankAccount with private attributes\nbalance and methods to deposit, withdraw, and check balance",
      "metadata": {}
    },
    {
      "id": "986d8f46-298b-40a5-bf38-b4dfdc7439fc",
      "cell_type": "code",
      "source": "class BankAccount:\n    def __init__(self, account_holder, initial_balance=0):\n        self.__account_holder = account_holder  # Private attribute\n        self.__balance = initial_balance  # Private attribute\n        print(f\"Account created for {account_holder} with initial balance: ${initial_balance}\")\n    \n    def deposit(self, amount):\n        if amount > 0:\n            self.__balance += amount\n            print(f\"${amount} deposited successfully\")\n            return True\n        else:\n            print(\"Deposit amount must be positive\")\n            return False\n    \n    def withdraw(self, amount):\n        if amount > 0:\n            if amount <= self.__balance:\n                self.__balance -= amount\n                print(f\"${amount} withdrawn successfully\")\n                return True\n            else:\n                print(\"Insufficient funds\")\n                return False\n        else:\n            print(\"Withdrawal amount must be positive\")\n            return False\n    \n    def check_balance(self):\n        print(f\"Current balance: ${self.__balance}\")\n        return self.__balance\n    \n    # This method demonstrates that direct access to __balance is not possible\n    def demonstrate_encapsulation(self):\n        print(\"Demonstrating encapsulation:\")\n        print(\"Private attributes cannot be accessed directly from outside the class\")\n        print(\"They can only be accessed through defined methods\")\n\n# Testing the BankAccount class\nif __name__ == \"__main__\":\n    # Create a new account\n    account = BankAccount(\"John Doe\", 1000)\n    \n    # Try operations\n    account.deposit(500)\n    account.withdraw(200)\n    account.check_balance()\n    \n    # Try to access private attribute directly (will not work as expected)\n    try:\n        print(account.__balance)  # This will raise an AttributeError\n    except AttributeError as e:\n        print(f\"Error: {e}\")\n        print(\"Cannot access private attribute directly\")\n    \n    # Name mangling in Python: private attributes can still be accessed with _ClassName__attribute\n    # (This is just to demonstrate how Python implements private attributes)\n    print(f\"Accessing through name mangling: ${account._BankAccount__balance}\")\n    \n    # Show encapsulation benefits\n    account.demonstrate_encapsulation()",
      "metadata": {
        "trusted": true
      },
      "outputs": [
        {
          "name": "stdout",
          "output_type": "stream",
          "text": "Account created for John Doe with initial balance: $1000\n$500 deposited successfully\n$200 withdrawn successfully\nCurrent balance: $1300\nError: 'BankAccount' object has no attribute '__balance'\nCannot access private attribute directly\nAccessing through name mangling: $1300\nDemonstrating encapsulation:\nPrivate attributes cannot be accessed directly from outside the class\nThey can only be accessed through defined methods\n"
        }
      ],
      "execution_count": 5
    },
    {
      "id": "eccaa90e-fe55-49a0-91ea-95b24f0f47e2",
      "cell_type": "markdown",
      "source": "Q6.  Demonstrate runtime polymorphism using a method play() in a base class Instrument. Derive classes Guitar\nand Piano that implement their own version of play().",
      "metadata": {}
    },
    {
      "id": "cfae8e95-5b52-4318-9be4-e2cc96c6a55b",
      "cell_type": "code",
      "source": "class Instrument:\n    def __init__(self, name):\n        self.name = name\n        \n    def play(self):\n        print(f\"Playing the {self.name}\")\n        \nclass Guitar(Instrument):\n    def __init__(self, guitar_type=\"Acoustic\"):\n        super().__init__(\"Guitar\")\n        self.guitar_type = guitar_type\n        \n    def play(self):\n        print(f\"Strumming the {self.guitar_type} {self.name}\")\n        \nclass Piano(Instrument):\n    def __init__(self, piano_type=\"Grand\"):\n        super().__init__(\"Piano\")\n        self.piano_type = piano_type\n        \n    def play(self):\n        print(f\"Playing keys on the {self.piano_type} {self.name}\")\n\n# Demonstrate runtime polymorphism\ndef perform_music(instrument):\n    # This function works with any class that has a play() method\n    # Runtime polymorphism occurs here as the correct play() method is called\n    # based on the actual object type at runtime\n    instrument.play()\n\n# Create instances of different instruments\nguitar = Guitar(\"Electric\")\npiano = Piano(\"Upright\")\nukulele = Instrument(\"Ukulele\")\n\n# Store instruments in a list to demonstrate polymorphic behavior\ninstruments = [guitar, piano, ukulele]\n\n# Call the same method on different objects and see different behaviors\nprint(\"Demonstrating runtime polymorphism:\")\nfor instrument in instruments:\n    perform_music(instrument)  # The correct version of play() is called based on the object type",
      "metadata": {
        "trusted": true
      },
      "outputs": [
        {
          "name": "stdout",
          "output_type": "stream",
          "text": "Demonstrating runtime polymorphism:\nStrumming the Electric Guitar\nPlaying keys on the Upright Piano\nPlaying the Ukulele\n"
        }
      ],
      "execution_count": 6
    },
    {
      "id": "23779d7c-7fa0-4ee4-be1b-248c22f556ee",
      "cell_type": "markdown",
      "source": "Q7. Create a class MathOperations with a class method add_numbers() to add two numbers and a static\nmethod subtract_numbers() to subtract two numbers.",
      "metadata": {}
    },
    {
      "id": "82742c79-747e-4b64-8c2c-74908076f1ef",
      "cell_type": "code",
      "source": "class MathOperations:\n    @classmethod\n    def add_numbers(cls, a, b):\n        \"\"\"Class method to add two numbers\"\"\"\n        return a + b\n    \n    @staticmethod\n    def subtract_numbers(a, b):\n        \"\"\"Static method to subtract two numbers\"\"\"\n        return a - b\n\n# Testing the class\n# Class method is called on the class\nprint(f\"Addition using class method: {MathOperations.add_numbers(10, 5)}\")\n\n# Static method is called on the class\nprint(f\"Subtraction using static method: {MathOperations.subtract_numbers(10, 5)}\")\n\n# Creating an instance and calling methods on it\nmath_ops = MathOperations()\nprint(f\"Addition using instance: {math_ops.add_numbers(20, 10)}\")\nprint(f\"Subtraction using instance: {math_ops.subtract_numbers(20, 10)}\")\n",
      "metadata": {
        "trusted": true
      },
      "outputs": [
        {
          "name": "stdout",
          "output_type": "stream",
          "text": "Addition using class method: 15\nSubtraction using static method: 5\nAddition using instance: 30\nSubtraction using instance: 10\n"
        }
      ],
      "execution_count": 7
    },
    {
      "id": "78c97e3a-d5d8-4674-914b-262adf1e477f",
      "cell_type": "markdown",
      "source": "Q8. Implement a class Person with a class method to count the total number of persons created.",
      "metadata": {}
    },
    {
      "id": "fe6bc505-c24b-48dd-92c4-5b83d72a0e76",
      "cell_type": "code",
      "source": "class Person:\n    # Class variable to keep track of the count of persons\n    count = 0\n    \n    def __init__(self, name):\n        \"\"\"Initialize a new Person with a name\"\"\"\n        self.name = name\n        # Increment count when a new instance is created\n        Person.count += 1\n        \n    @classmethod\n    def get_count(cls):\n        \"\"\"Class method to return the total number of persons created\"\"\"\n        return cls.count\n\n# Testing the Person class\nprint(\"Initial count:\", Person.get_count())\n\n# Create some person instances\nperson1 = Person(\"Alice\")\nperson2 = Person(\"Bob\")\nperson3 = Person(\"Charlie\")\n\n# Check the count after creating instances\nprint(\"Count after creating 3 persons:\", Person.get_count())\n\n# Create more instances\nperson4 = Person(\"David\")\nperson5 = Person(\"Eve\")\n\n# Check the final count\nprint(\"Final count:\", Person.get_count())",
      "metadata": {
        "trusted": true
      },
      "outputs": [
        {
          "name": "stdout",
          "output_type": "stream",
          "text": "Initial count: 0\nCount after creating 3 persons: 3\nFinal count: 5\n"
        }
      ],
      "execution_count": 11
    },
    {
      "id": "1eed64ef-e694-4f80-9d85-bbaef4c42baa",
      "cell_type": "markdown",
      "source": "Q9.  Write a class Fraction with attributes numerator and denominator. Override the str method to display the\nfraction as \"numerator/denominator\".",
      "metadata": {}
    },
    {
      "id": "96d46bbf-e413-41f9-b9f4-c09ad70fdf5e",
      "cell_type": "code",
      "source": "class Fraction:\n    def __init__(self, numerator, denominator):\n        \"\"\"Initialize a fraction with numerator and denominator\"\"\"\n        self.numerator = numerator\n        if denominator == 0:\n            raise ValueError(\"Denominator cannot be zero\")\n        self.denominator = denominator\n    \n    def __str__(self):\n        \"\"\"Override the str method to display the fraction as 'numerator/denominator'\"\"\"\n        return f\"{self.numerator}/{self.denominator}\"\n\n# Testing the Fraction class\nf1 = Fraction(1, 2)\nf2 = Fraction(3, 4)\nf3 = Fraction(5, 6)\n\nprint(f1)  # Should display: 1/2\nprint(f2)  # Should display: 3/4\nprint(f3)  # Should display: 5/6\n\n# You can also create improper fractions\nf4 = Fraction(5, 3)\nprint(f4)  # Should display: 5/3\n\n# Or negative fractions\nf5 = Fraction(-1, 4)\nprint(f5)  # Should display: -1/4",
      "metadata": {
        "trusted": true
      },
      "outputs": [
        {
          "name": "stdout",
          "output_type": "stream",
          "text": "1/2\n3/4\n5/6\n5/3\n-1/4\n"
        }
      ],
      "execution_count": 12
    },
    {
      "id": "fe084fbc-cd06-4273-b411-5149ef64f135",
      "cell_type": "markdown",
      "source": "Q10.  Demonstrate operator overloading by creating a class Vector and overriding the add method to add two\nvectors.",
      "metadata": {}
    },
    {
      "id": "0ca98b4a-896c-4e95-af6c-41aeb961d891",
      "cell_type": "code",
      "source": "class Vector:\n    def __init__(self, components):\n        \"\"\"Initialize a vector with a list of components\"\"\"\n        self.components = components\n        \n    def __add__(self, other):\n        \"\"\"Override the + operator to add two vectors\"\"\"\n        if len(self.components) != len(other.components):\n            raise ValueError(\"Vectors must have the same dimensions\")\n        \n        # Add corresponding components\n        result = [self.components[i] + other.components[i] for i in range(len(self.components))]\n        return Vector(result)\n    \n    def __str__(self):\n        \"\"\"String representation of the vector\"\"\"\n        return f\"Vector({self.components})\"\n\n# Testing the Vector class\nv1 = Vector([1, 2, 3])\nv2 = Vector([4, 5, 6])\n\n# Adding vectors using the + operator\nv3 = v1 + v2  # This calls v1.__add__(v2)\n\nprint(v1)  # Should display: Vector([1, 2, 3])\nprint(v2)  # Should display: Vector([4, 5, 6])\nprint(v3)  # Should display: Vector([5, 7, 9])\n\n# Test with 2D vectors\nv4 = Vector([10, 20])\nv5 = Vector([30, 40])\nv6 = v4 + v5\nprint(v6)  # Should display: Vector([40, 60])\n\n# Try with vectors of different dimensions\ntry:\n    v7 = v1 + v4  # This should raise an error\nexcept ValueError as e:\n    print(f\"Error: {e}\")",
      "metadata": {
        "trusted": true
      },
      "outputs": [
        {
          "name": "stdout",
          "output_type": "stream",
          "text": "Vector([1, 2, 3])\nVector([4, 5, 6])\nVector([5, 7, 9])\nVector([40, 60])\nError: Vectors must have the same dimensions\n"
        }
      ],
      "execution_count": 13
    },
    {
      "id": "569a16cd-964a-43b0-aa5c-fa558eb496c3",
      "cell_type": "markdown",
      "source": "Q11. . Create a class Person with attributes name and age. Add a method greet() that prints \"Hello, my name is\n{name} and I am {age} years old.\"",
      "metadata": {}
    },
    {
      "id": "8fdf8674-baab-421a-adcf-2dc084eedba8",
      "cell_type": "code",
      "source": "class Person:\n    def __init__(self, name, age):\n        \"\"\"Initialize a Person with a name and age\"\"\"\n        self.name = name\n        self.age = age\n        \n    def greet(self):\n        \"\"\"Method that prints a greeting with the person's name and age\"\"\"\n        print(f\"Hello, my name is {self.name} and I am {self.age} years old.\")\n\n# Testing the Person class\nperson1 = Person(\"John\", 30)\nperson1.greet()  # Should display: Hello, my name is John and I am 30 years old.\n\nperson2 = Person(\"Alice\", 25)\nperson2.greet()  # Should display: Hello, my name is Alice and I am 25 years old.",
      "metadata": {
        "trusted": true
      },
      "outputs": [
        {
          "name": "stdout",
          "output_type": "stream",
          "text": "Hello, my name is John and I am 30 years old.\nHello, my name is Alice and I am 25 years old.\n"
        }
      ],
      "execution_count": 14
    },
    {
      "id": "810cbf49-5c69-4e90-ac36-ca8d0cb3e48d",
      "cell_type": "markdown",
      "source": "Q12. Implement a class Student with attributes name and grades. Create a method average_grade() to compute\nthe average of the grades.",
      "metadata": {}
    },
    {
      "id": "e38e0588-6b55-4812-b3d7-c1f51cb720b4",
      "cell_type": "code",
      "source": "class Student:\n    def __init__(self, name, grades):\n        \"\"\"Initialize a Student with a name and list of grades\"\"\"\n        self.name = name\n        self.grades = grades\n    \n    def average_grade(self):\n        \"\"\"Method to compute the average of the student's grades\"\"\"\n        if not self.grades:\n            return 0  # Return 0 for empty grades list to avoid division by zero\n        return sum(self.grades) / len(self.grades)\n\n# Testing the Student class\nstudent1 = Student(\"John\", [85, 90, 78, 92, 88])\nprint(f\"{student1.name}'s average grade: {student1.average_grade()}\")\n\nstudent2 = Student(\"Alice\", [95, 92, 98, 99])\nprint(f\"{student2.name}'s average grade: {student2.average_grade()}\")\n\n# Edge case: student with no grades\nstudent3 = Student(\"Bob\", [])\nprint(f\"{student3.name}'s average grade: {student3.average_grade()}\")",
      "metadata": {
        "trusted": true
      },
      "outputs": [
        {
          "name": "stdout",
          "output_type": "stream",
          "text": "John's average grade: 86.6\nAlice's average grade: 96.0\nBob's average grade: 0\n"
        }
      ],
      "execution_count": 15
    },
    {
      "id": "edeba3e0-d9bb-4df9-b2ca-c60fb5cb932c",
      "cell_type": "markdown",
      "source": "Q13.  Create a class Rectangle with methods set_dimensions() to set the dimensions and area() to calculate the\narea.",
      "metadata": {}
    },
    {
      "id": "a965a9e4-bc5d-4812-892a-2468547bbd75",
      "cell_type": "code",
      "source": "class Rectangle:\n    def __init__(self):\n        \"\"\"Initialize Rectangle with default dimensions of 0\"\"\"\n        self.width = 0\n        self.height = 0\n    \n    def set_dimensions(self, width, height):\n        \"\"\"Method to set the dimensions of the rectangle\"\"\"\n        self.width = width\n        self.height = height\n    \n    def area(self):\n        \"\"\"Method to calculate the area of the rectangle\"\"\"\n        return self.width * self.height\n\n# Testing the Rectangle class\nrect1 = Rectangle()\nrect1.set_dimensions(5, 10)\nprint(f\"Rectangle with dimensions {rect1.width}x{rect1.height} has area: {rect1.area()}\")\n\nrect2 = Rectangle()\nrect2.set_dimensions(7, 3)\nprint(f\"Rectangle with dimensions {rect2.width}x{rect2.height} has area: {rect2.area()}\")\n\n# Test with zero dimensions\nrect3 = Rectangle()\nprint(f\"Rectangle with default dimensions {rect3.width}x{rect3.height} has area: {rect3.area()}\")",
      "metadata": {
        "trusted": true
      },
      "outputs": [
        {
          "name": "stdout",
          "output_type": "stream",
          "text": "Rectangle with dimensions 5x10 has area: 50\nRectangle with dimensions 7x3 has area: 21\nRectangle with default dimensions 0x0 has area: 0\n"
        }
      ],
      "execution_count": 16
    },
    {
      "id": "90ca504f-64f0-483b-9165-8180153aa51a",
      "cell_type": "markdown",
      "source": "Q14. Create a class Employee with a method calculate_salary() that computes the salary based on hours worked\nand hourly rate. Create a derived class Manager that adds a bonus to the salary.",
      "metadata": {}
    },
    {
      "id": "f42de0f2-e15d-41f9-b835-9b665a346cfc",
      "cell_type": "code",
      "source": "class Employee:\n    def __init__(self, name, hourly_rate):\n        \"\"\"Initialize Employee with name and hourly rate\"\"\"\n        self.name = name\n        self.hourly_rate = hourly_rate\n        self.hours_worked = 0\n    \n    def log_hours(self, hours):\n        \"\"\"Log hours worked by the employee\"\"\"\n        self.hours_worked += hours\n    \n    def calculate_salary(self):\n        \"\"\"Calculate salary based on hours worked and hourly rate\"\"\"\n        return self.hours_worked * self.hourly_rate\n    \n    def __str__(self):\n        return f\"{self.name}: {self.hours_worked} hours at ${self.hourly_rate}/hour = ${self.calculate_salary()}\"\n\n\nclass Manager(Employee):\n    def __init__(self, name, hourly_rate, bonus):\n        \"\"\"Initialize Manager with name, hourly rate and bonus amount\"\"\"\n        super().__init__(name, hourly_rate)  # Call parent class constructor\n        self.bonus = bonus\n    \n    def calculate_salary(self):\n        \"\"\"Override calculate_salary to add bonus to the base salary\"\"\"\n        base_salary = super().calculate_salary()  # Get the base salary calculation\n        return base_salary + self.bonus\n    \n    def __str__(self):\n        return f\"Manager {self.name}: {self.hours_worked} hours at ${self.hourly_rate}/hour + ${self.bonus} bonus = ${self.calculate_salary()}\"\n\n\n# Testing the classes\nemployee = Employee(\"John\", 15)\nemployee.log_hours(40)\nprint(employee)\n\nmanager = Manager(\"Jane\", 25, 500)\nmanager.log_hours(40)\nprint(manager)",
      "metadata": {
        "trusted": true
      },
      "outputs": [
        {
          "name": "stdout",
          "output_type": "stream",
          "text": "John: 40 hours at $15/hour = $600\nManager Jane: 40 hours at $25/hour + $500 bonus = $1500\n"
        }
      ],
      "execution_count": 17
    },
    {
      "id": "d6060f6f-cd2f-4f72-b5da-7fb7a54ae913",
      "cell_type": "markdown",
      "source": "Q15.  Create a class Product with attributes name, price, and quantity. Implement a method total_price() that\ncalculates the total price of the product.",
      "metadata": {}
    },
    {
      "id": "6470086b-2c79-4ae5-8e04-07ee223d7b34",
      "cell_type": "code",
      "source": "class Product:\n    def __init__(self, name, price, quantity):\n        \"\"\"Initialize Product with name, price, and quantity\"\"\"\n        self.name = name\n        self.price = price\n        self.quantity = quantity\n    \n    def total_price(self):\n        \"\"\"Calculate the total price of the product based on price and quantity\"\"\"\n        return self.price * self.quantity\n    \n    def __str__(self):\n        \"\"\"Return a string representation of the product\"\"\"\n        return f\"{self.name}: {self.quantity} units at ${self.price}/unit = ${self.total_price()}\"\n\n# Testing the Product class\nlaptop = Product(\"Laptop\", 899.99, 2)\nprint(laptop)\n\nheadphones = Product(\"Headphones\", 59.99, 5)\nprint(headphones)",
      "metadata": {
        "trusted": true
      },
      "outputs": [
        {
          "name": "stdout",
          "output_type": "stream",
          "text": "Laptop: 2 units at $899.99/unit = $1799.98\nHeadphones: 5 units at $59.99/unit = $299.95\n"
        }
      ],
      "execution_count": 18
    },
    {
      "id": "e123d628-2f8e-497d-9b1b-57f2b3c6cbc4",
      "cell_type": "markdown",
      "source": "Q16.  Create a class Animal with an abstract method sound(). Create two derived classes Cow and Sheep that\nimplement the sound() method.",
      "metadata": {}
    },
    {
      "id": "3a10fd01-d8c3-4151-84d8-66ce50b497c7",
      "cell_type": "code",
      "source": "from abc import ABC, abstractmethod\n\nclass Animal(ABC):\n    \"\"\"Abstract class for animals with an abstract sound method\"\"\"\n    \n    def __init__(self, name):\n        \"\"\"Initialize Animal with a name\"\"\"\n        self.name = name\n    \n    @abstractmethod\n    def sound(self):\n        \"\"\"Abstract method that must be implemented by derived classes\"\"\"\n        pass\n    \n    def __str__(self):\n        \"\"\"Return a string representation of the animal\"\"\"\n        return f\"{self.name} says {self.sound()}\"\n\n\nclass Cow(Animal):\n    \"\"\"Cow class that inherits from Animal\"\"\"\n    \n    def sound(self):\n        \"\"\"Implement the sound method for Cow\"\"\"\n        return \"Moo!\"\n\n\nclass Sheep(Animal):\n    \"\"\"Sheep class that inherits from Animal\"\"\"\n    \n    def sound(self):\n        \"\"\"Implement the sound method for Sheep\"\"\"\n        return \"Baa!\"\n\n\n# Testing the classes\ncow = Cow(\"Bessie\")\nsheep = Sheep(\"Fluffy\")\n\nprint(cow)\nprint(sheep)",
      "metadata": {
        "trusted": true
      },
      "outputs": [
        {
          "name": "stdout",
          "output_type": "stream",
          "text": "Bessie says Moo!\nFluffy says Baa!\n"
        }
      ],
      "execution_count": 19
    },
    {
      "id": "cd6b45a7-de31-4d1c-8464-1c5d82018d98",
      "cell_type": "markdown",
      "source": "Q17.  Create a class Book with attributes title, author, and year_published. Add a method get_book_info() that\nreturns a formatted string with the book's details.",
      "metadata": {}
    },
    {
      "id": "a5292c09-9fc8-4916-9ebe-67db1b5cca0a",
      "cell_type": "code",
      "source": "class Book:\n    \"\"\"Class representing a book with title, author, and year published information\"\"\"\n    \n    def __init__(self, title, author, year_published):\n        \"\"\"Initialize a Book with title, author, and year published\"\"\"\n        self.title = title\n        self.author = author\n        self.year_published = year_published\n        \n    def get_book_info(self):\n        \"\"\"Returns a formatted string with the book's details\"\"\"\n        return f\"'{self.title}' by {self.author} ({self.year_published})\"\n    \n# Testing the class\nbook1 = Book(\"The Great Gatsby\", \"F. Scott Fitzgerald\", 1925)\nbook2 = Book(\"To Kill a Mockingbird\", \"Harper Lee\", 1960)\n\nprint(book1.get_book_info())\nprint(book2.get_book_info())",
      "metadata": {
        "trusted": true
      },
      "outputs": [
        {
          "name": "stdout",
          "output_type": "stream",
          "text": "'The Great Gatsby' by F. Scott Fitzgerald (1925)\n'To Kill a Mockingbird' by Harper Lee (1960)\n"
        }
      ],
      "execution_count": 20
    },
    {
      "id": "396a1064-ba93-40a9-92f8-6bf55285c941",
      "cell_type": "markdown",
      "source": "Q18.  Create a class House with attributes address and price. Create a derived class Mansion that adds an\nattribute number_of_rooms.",
      "metadata": {}
    },
    {
      "id": "e85b14a0-31e1-4ebe-abfd-7d2eaa51e344",
      "cell_type": "code",
      "source": "class House:\n    \"\"\"Class representing a house with address and price information\"\"\"\n    \n    def __init__(self, address, price):\n        \"\"\"Initialize a House with address and price\"\"\"\n        self.address = address\n        self.price = price\n        \n    def get_info(self):\n        \"\"\"Returns formatted information about the house\"\"\"\n        return f\"House at {self.address}, priced at ${self.price:,}\"\n\n\nclass Mansion(House):\n    \"\"\"Class representing a mansion, derived from House with added number of rooms\"\"\"\n    \n    def __init__(self, address, price, number_of_rooms):\n        \"\"\"Initialize a Mansion with address, price, and number of rooms\"\"\"\n        # Call the parent class constructor\n        super().__init__(address, price)\n        self.number_of_rooms = number_of_rooms\n        \n    def get_info(self):\n        \"\"\"Returns formatted information about the mansion including rooms\"\"\"\n        return f\"Mansion at {self.address}, priced at ${self.price:,} with {self.number_of_rooms} rooms\"\n\n\n# Testing the classes\nhouse = House(\"123 Main St\", 250000)\nmansion = Mansion(\"456 Luxury Ave\", 2500000, 15)\n\nprint(house.get_info())\nprint(mansion.get_info())",
      "metadata": {
        "trusted": true
      },
      "outputs": [
        {
          "name": "stdout",
          "output_type": "stream",
          "text": "House at 123 Main St, priced at $250,000\nMansion at 456 Luxury Ave, priced at $2,500,000 with 15 rooms\n"
        }
      ],
      "execution_count": 21
    },
    {
      "id": "6595c3cb-0647-4b63-a3b1-e177351b9653",
      "cell_type": "code",
      "source": "",
      "metadata": {
        "trusted": true
      },
      "outputs": [],
      "execution_count": null
    }
  ]
}